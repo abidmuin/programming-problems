{
  "nbformat": 4,
  "nbformat_minor": 0,
  "metadata": {
    "colab": {
      "private_outputs": true,
      "provenance": [],
      "authorship_tag": "ABX9TyNbEi/+Hwa8dx3zu6nj2YB3",
      "include_colab_link": true
    },
    "kernelspec": {
      "name": "python3",
      "display_name": "Python 3"
    },
    "language_info": {
      "name": "python"
    }
  },
  "cells": [
    {
      "cell_type": "markdown",
      "metadata": {
        "id": "view-in-github",
        "colab_type": "text"
      },
      "source": [
        "<a href=\"https://colab.research.google.com/github/abidmuin/programming-problems/blob/master/LeetCode/calculate-special-bonus.ipynb\" target=\"_parent\"><img src=\"https://colab.research.google.com/assets/colab-badge.svg\" alt=\"Open In Colab\"/></a>"
      ]
    },
    {
      "cell_type": "markdown",
      "source": [
        "Problem Link - [Calculate Special Bonus](https://leetcode.com/problems/calculate-special-bonus/)"
      ],
      "metadata": {
        "id": "ODcfTQGHlIwk"
      }
    },
    {
      "cell_type": "code",
      "source": [
        "import pandas as pd"
      ],
      "metadata": {
        "id": "B7rKLwvioVFA"
      },
      "execution_count": null,
      "outputs": []
    },
    {
      "cell_type": "code",
      "source": [
        "data = [[2, 'Meir', 3000], [3, 'Michael', 3800], [7, 'Addilyn', 7400], [8, 'Juan', 6100], [9, 'Kannon', 7700]]\n",
        "Employees = pd.DataFrame(data, columns=['employee_id', 'name', 'salary']).astype({'employee_id':'int64', 'name':'object', 'salary':'int64'})"
      ],
      "metadata": {
        "id": "hy_dPl9Mof3C"
      },
      "execution_count": null,
      "outputs": []
    },
    {
      "cell_type": "code",
      "source": [
        "def calculate_special_bonus(employees: pd.DataFrame) -> pd.DataFrame:\n",
        "    employees['bonus'] = employees.apply(lambda row: row['salary'] if row['employee_id'] % 2 == 1 and row['name'][0] != 'M' else 0, axis=1)\n",
        "    result = employees[['employee_id', 'bonus']].sort_values(by='employee_id')\n",
        "\n",
        "    return result\n"
      ],
      "metadata": {
        "id": "hskFfeF3oij9"
      },
      "execution_count": null,
      "outputs": []
    },
    {
      "cell_type": "code",
      "source": [
        "calculate_special_bonus(Employees)"
      ],
      "metadata": {
        "id": "gRw8ESrAonhp"
      },
      "execution_count": null,
      "outputs": []
    }
  ]
}